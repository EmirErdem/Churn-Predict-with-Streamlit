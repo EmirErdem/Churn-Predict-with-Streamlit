{
 "cells": [
  {
   "cell_type": "code",
   "execution_count": 106,
   "id": "initial_id",
   "metadata": {
    "collapsed": true,
    "ExecuteTime": {
     "end_time": "2024-01-19T01:55:38.060271400Z",
     "start_time": "2024-01-19T01:55:38.051744500Z"
    }
   },
   "outputs": [],
   "source": [
    "import pandas as pd\n",
    "import numpy as np\n",
    "from sklearn.preprocessing import LabelEncoder\n",
    "from sklearn.model_selection import train_test_split\n",
    "from sklearn.preprocessing import StandardScaler\n",
    "from sklearn.linear_model import LogisticRegression\n",
    "import joblib\n"
   ]
  },
  {
   "cell_type": "code",
   "outputs": [],
   "source": [
    "df=pd.read_csv(\"churn.csv\")"
   ],
   "metadata": {
    "collapsed": false,
    "ExecuteTime": {
     "end_time": "2024-01-19T01:55:38.145934600Z",
     "start_time": "2024-01-19T01:55:38.064274200Z"
    }
   },
   "id": "8cc268429f89e53",
   "execution_count": 107
  },
  {
   "cell_type": "code",
   "outputs": [],
   "source": [
    "df.drop(['Surname','RowNumber'],axis=1,inplace=True)\n",
    "\n",
    "encode = ['Geography','Gender']\n",
    "for col in encode:\n",
    "    dummy = pd.get_dummies(df[col], prefix=col)\n",
    "    df = pd.concat([df,dummy], axis=1)\n",
    "    del df[col]"
   ],
   "metadata": {
    "collapsed": false,
    "ExecuteTime": {
     "end_time": "2024-01-19T01:55:38.148402Z",
     "start_time": "2024-01-19T01:55:38.092831500Z"
    }
   },
   "id": "ccb950cbb5a8b045",
   "execution_count": 108
  },
  {
   "cell_type": "code",
   "outputs": [],
   "source": [
    "X = df.drop('Exited', axis=1)\n",
    "y = df['Exited']"
   ],
   "metadata": {
    "collapsed": false,
    "ExecuteTime": {
     "end_time": "2024-01-19T01:55:38.175883500Z",
     "start_time": "2024-01-19T01:55:38.107881600Z"
    }
   },
   "id": "b6a5713d2b7f0b3e",
   "execution_count": 109
  },
  {
   "cell_type": "code",
   "outputs": [],
   "source": [
    "\n",
    "X_train,X_test,y_train,y_test=train_test_split(X,y,random_state=22,test_size=0.3)"
   ],
   "metadata": {
    "collapsed": false,
    "ExecuteTime": {
     "end_time": "2024-01-19T01:55:38.179892800Z",
     "start_time": "2024-01-19T01:55:38.152401300Z"
    }
   },
   "id": "c870dc4a66dd9e8c",
   "execution_count": 110
  },
  {
   "cell_type": "code",
   "outputs": [
    {
     "data": {
      "text/plain": "['model.joblib']"
     },
     "execution_count": 111,
     "metadata": {},
     "output_type": "execute_result"
    }
   ],
   "source": [
    "model=LogisticRegression().fit(X_train,y_train)\n",
    "joblib.dump(model, 'model.joblib') \n"
   ],
   "metadata": {
    "collapsed": false,
    "ExecuteTime": {
     "end_time": "2024-01-19T01:55:38.302710700Z",
     "start_time": "2024-01-19T01:55:38.209686400Z"
    }
   },
   "id": "b4ccd2c9664ae9aa",
   "execution_count": 111
  },
  {
   "cell_type": "code",
   "outputs": [
    {
     "data": {
      "text/plain": "      CustomerId  CreditScore  Age  Tenure    Balance  NumOfProducts  \\\n5386    15668283          642   48       9  118317.27              4   \n\n      HasCrCard  IsActiveMember  EstimatedSalary  Geography_France  \\\n5386          0               0         78702.98                 1   \n\n      Geography_Germany  Geography_Spain  Gender_Female  Gender_Male  \n5386                  0                0              0            1  ",
      "text/html": "<div>\n<style scoped>\n    .dataframe tbody tr th:only-of-type {\n        vertical-align: middle;\n    }\n\n    .dataframe tbody tr th {\n        vertical-align: top;\n    }\n\n    .dataframe thead th {\n        text-align: right;\n    }\n</style>\n<table border=\"1\" class=\"dataframe\">\n  <thead>\n    <tr style=\"text-align: right;\">\n      <th></th>\n      <th>CustomerId</th>\n      <th>CreditScore</th>\n      <th>Age</th>\n      <th>Tenure</th>\n      <th>Balance</th>\n      <th>NumOfProducts</th>\n      <th>HasCrCard</th>\n      <th>IsActiveMember</th>\n      <th>EstimatedSalary</th>\n      <th>Geography_France</th>\n      <th>Geography_Germany</th>\n      <th>Geography_Spain</th>\n      <th>Gender_Female</th>\n      <th>Gender_Male</th>\n    </tr>\n  </thead>\n  <tbody>\n    <tr>\n      <th>5386</th>\n      <td>15668283</td>\n      <td>642</td>\n      <td>48</td>\n      <td>9</td>\n      <td>118317.27</td>\n      <td>4</td>\n      <td>0</td>\n      <td>0</td>\n      <td>78702.98</td>\n      <td>1</td>\n      <td>0</td>\n      <td>0</td>\n      <td>0</td>\n      <td>1</td>\n    </tr>\n  </tbody>\n</table>\n</div>"
     },
     "execution_count": 112,
     "metadata": {},
     "output_type": "execute_result"
    }
   ],
   "source": [
    "random_user = X_train.sample(1, random_state=50)\n",
    "random_user"
   ],
   "metadata": {
    "collapsed": false,
    "ExecuteTime": {
     "end_time": "2024-01-19T01:55:38.333856600Z",
     "start_time": "2024-01-19T01:55:38.267291800Z"
    }
   },
   "id": "6ce186867f6e84db",
   "execution_count": 112
  },
  {
   "cell_type": "code",
   "outputs": [
    {
     "data": {
      "text/plain": "array([0], dtype=int64)"
     },
     "execution_count": 113,
     "metadata": {},
     "output_type": "execute_result"
    }
   ],
   "source": [
    "model.predict(random_user)"
   ],
   "metadata": {
    "collapsed": false,
    "ExecuteTime": {
     "end_time": "2024-01-19T01:55:38.364047Z",
     "start_time": "2024-01-19T01:55:38.314814300Z"
    }
   },
   "id": "7df0e3d471e25c24",
   "execution_count": 113
  },
  {
   "cell_type": "code",
   "outputs": [
    {
     "data": {
      "text/plain": "array([[0.76952791, 0.23047209]])"
     },
     "execution_count": 114,
     "metadata": {},
     "output_type": "execute_result"
    }
   ],
   "source": [
    "model.predict_proba(random_user)"
   ],
   "metadata": {
    "collapsed": false,
    "ExecuteTime": {
     "end_time": "2024-01-19T01:55:38.419687200Z",
     "start_time": "2024-01-19T01:55:38.341459700Z"
    }
   },
   "id": "33d26f3b901687a8",
   "execution_count": 114
  },
  {
   "cell_type": "code",
   "outputs": [],
   "source": [],
   "metadata": {
    "collapsed": false,
    "ExecuteTime": {
     "end_time": "2024-01-19T01:55:38.457277600Z",
     "start_time": "2024-01-19T01:55:38.370566700Z"
    }
   },
   "id": "4dc78df81da7ae8d",
   "execution_count": 114
  }
 ],
 "metadata": {
  "kernelspec": {
   "display_name": "Python 3",
   "language": "python",
   "name": "python3"
  },
  "language_info": {
   "codemirror_mode": {
    "name": "ipython",
    "version": 2
   },
   "file_extension": ".py",
   "mimetype": "text/x-python",
   "name": "python",
   "nbconvert_exporter": "python",
   "pygments_lexer": "ipython2",
   "version": "2.7.6"
  }
 },
 "nbformat": 4,
 "nbformat_minor": 5
}
